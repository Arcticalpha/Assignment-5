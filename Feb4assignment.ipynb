{
 "cells": [
  {
   "cell_type": "markdown",
   "id": "aba80ea9-86ac-4b95-8d19-3ae5b36d77c9",
   "metadata": {},
   "source": [
    "Q1. Create a python program to sort the given list of tuples based on integer value using a\n",
    "lambda function.\n",
    "[('Sachin Tendulkar', 34357), ('Ricky Ponting', 27483), ('Jack Kallis', 25534), ('Virat Kohli', 24936)]"
   ]
  },
  {
   "cell_type": "code",
   "execution_count": 4,
   "id": "af262d4d-da74-4599-b615-46bf98fc21f7",
   "metadata": {},
   "outputs": [
    {
     "name": "stdout",
     "output_type": "stream",
     "text": [
      "('Virat Kohli', 24936)\n",
      "('Jack Kallis', 25534)\n",
      "('Ricky Ponting', 27483)\n",
      "('Sachin Tendulkar', 34357)\n"
     ]
    }
   ],
   "source": [
    "t = [('Sachin Tendulkar', 34357), ('Ricky Ponting', 27483), ('Jack Kallis', 25534), ('Virat Kohli', 24936)]\n",
    "sort = sorted(t,key=lambda x:x[1])\n",
    "for i in sort:\n",
    "    print(i)"
   ]
  },
  {
   "cell_type": "markdown",
   "id": "3dc4160d-8516-4d7f-ae37-4b4090ba3467",
   "metadata": {},
   "source": [
    "Q2. Write a Python Program to find the squares of all the numbers in the given list of integers using\n",
    "lambda and map functions.\n",
    "[1, 2, 3, 4, 5, 6, 7, 8, 9, 10]"
   ]
  },
  {
   "cell_type": "code",
   "execution_count": 7,
   "id": "376f73b6-dc6c-45f1-a19f-aed6df99c5d9",
   "metadata": {},
   "outputs": [
    {
     "name": "stdout",
     "output_type": "stream",
     "text": [
      "[1, 4, 9, 16, 25, 36, 49, 64, 81, 100]\n"
     ]
    }
   ],
   "source": [
    "num = [1, 2, 3, 4, 5, 6, 7, 8, 9, 10]\n",
    "sq = list(map(lambda x: x**2,num))\n",
    "print(sq)"
   ]
  },
  {
   "cell_type": "markdown",
   "id": "f24a05ce-aaa4-4f63-a6bd-8a522c82673b",
   "metadata": {},
   "source": [
    "Q3. Write a python program to convert the given list of integers into a tuple of strings. Use map and\n",
    "lambda functions\n",
    "Given String: [1, 2, 3, 4, 5, 6, 7, 8, 9, 10]\n",
    "Expected output: ('1', '2', '3', '4', '5', '6', '7', '8', '9', '10')"
   ]
  },
  {
   "cell_type": "code",
   "execution_count": 9,
   "id": "3db8a12b-8ac2-406d-9e7e-712ecc3668cf",
   "metadata": {},
   "outputs": [
    {
     "name": "stdout",
     "output_type": "stream",
     "text": [
      "('1', '2', '3', '4', '5', '6', '7', '8', '9', '10')\n"
     ]
    }
   ],
   "source": [
    "lst = [1, 2, 3, 4, 5, 6, 7, 8, 9, 10]\n",
    "t = tuple(map(lambda x:str(x),lst))\n",
    "print(t)"
   ]
  },
  {
   "cell_type": "markdown",
   "id": "d284eb35-5ea0-4b29-ae7d-5f01c665e69a",
   "metadata": {},
   "source": [
    "Q4. Write a python program using reduce function to compute the product of a list containing numbers\n",
    "from 1 to 25."
   ]
  },
  {
   "cell_type": "code",
   "execution_count": 12,
   "id": "bbd78ce5-f975-41e6-b56e-bd14ee2e7c40",
   "metadata": {},
   "outputs": [
    {
     "name": "stdout",
     "output_type": "stream",
     "text": [
      "15511210043330985984000000\n"
     ]
    }
   ],
   "source": [
    "from functools import reduce\n",
    "num = [i for i in range(1,26)]\n",
    "product = reduce(lambda x, y: x * y, num)\n",
    "print(product)"
   ]
  },
  {
   "cell_type": "markdown",
   "id": "882c2eee-6a4f-4f8d-b9bc-20c8c400dc2f",
   "metadata": {},
   "source": [
    "Q5. Write a python program to filter the numbers in a given list that are divisible by 2 and 3 using the\n",
    "filter function.\n",
    "[2, 3, 6, 9, 27, 60, 90, 120, 55, 46]"
   ]
  },
  {
   "cell_type": "code",
   "execution_count": 13,
   "id": "5a612e0e-dc13-4968-9583-cd32ad2697d6",
   "metadata": {},
   "outputs": [
    {
     "name": "stdout",
     "output_type": "stream",
     "text": [
      "[6, 60, 90, 120]\n"
     ]
    }
   ],
   "source": [
    "lst = [2,3,6,9,27,60,90,120,55,46]\n",
    "div = list(filter(lambda x: x % 2 == 0 and x % 3 == 0,lst))\n",
    "print(div)"
   ]
  },
  {
   "cell_type": "markdown",
   "id": "dafd133a-4dac-4668-b444-a961c1f95f63",
   "metadata": {},
   "source": [
    "Q6. Write a python program to find palindromes in the given list of strings using lambda and filter\n",
    "function.\n",
    "['python', 'php', 'aba', 'radar', 'level']"
   ]
  },
  {
   "cell_type": "code",
   "execution_count": 15,
   "id": "f101e8ec-31ea-4063-b26f-a7e03dc805c3",
   "metadata": {},
   "outputs": [
    {
     "name": "stdout",
     "output_type": "stream",
     "text": [
      "['php', 'aba', 'radar', 'level']\n"
     ]
    }
   ],
   "source": [
    "lst = ['python', 'php', 'aba', 'radar', 'level']\n",
    "palin = list(filter(lambda x: x[::-1] == x[::],lst))\n",
    "print(palin)"
   ]
  },
  {
   "cell_type": "code",
   "execution_count": null,
   "id": "0483aac6-1c24-401b-ad76-b2053d6f7ce5",
   "metadata": {},
   "outputs": [],
   "source": []
  }
 ],
 "metadata": {
  "kernelspec": {
   "display_name": "Python 3 (ipykernel)",
   "language": "python",
   "name": "python3"
  },
  "language_info": {
   "codemirror_mode": {
    "name": "ipython",
    "version": 3
   },
   "file_extension": ".py",
   "mimetype": "text/x-python",
   "name": "python",
   "nbconvert_exporter": "python",
   "pygments_lexer": "ipython3",
   "version": "3.10.8"
  }
 },
 "nbformat": 4,
 "nbformat_minor": 5
}
